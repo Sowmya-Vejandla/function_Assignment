{
 "cells": [
  {
   "cell_type": "raw",
   "id": "539b01d0",
   "metadata": {},
   "source": [
    "1. In Python, a lambda function is a concise way to create anonymous functions. Lambda functions are defined using the lambda keyword, and they can take any number of input parameters but can only have one expression.\n",
    "\n",
    "Lambda functions are anonymous, means they don't have a name. They are often used for short-term operations and are not typically assigned to a variable or given a name whereas Regular functions, defined with the def keyword, have a name and can be referenced throughout the code.\n",
    "\n",
    "Lambda functions implicitly return the value of the expression without using the return keyword whereas Regular functions use the return statement explicitly to return a value.\n",
    "\n",
    "Lambda functions have a more concise syntax, which is useful for short operations. They can be defined in a single line whereas Regular functions have a more extensive syntax with the def keyword, a function name, parameters, a colon, and a block of code.\n"
   ]
  },
  {
   "cell_type": "code",
   "execution_count": 2,
   "id": "09648afc",
   "metadata": {},
   "outputs": [
    {
     "name": "stdout",
     "output_type": "stream",
     "text": [
      "24\n"
     ]
    },
    {
     "data": {
      "text/plain": [
       "\"Here, the lambda function lambda a, b, c: a * b * c takes three arguments a, b, and c and returns their product.\\n\\nLambda functions are particularly useful in situations where you need a short-lived function for a specific task and don't want to define a full function using the def keyword.\\n\""
      ]
     },
     "execution_count": 2,
     "metadata": {},
     "output_type": "execute_result"
    }
   ],
   "source": [
    "2. \n",
    "\"\"\"Yes, a lambda function in Python can have multiple arguments. The syntax for a lambda function with multiple arguments is similar to that of a function with a single argument, but with additional parameters separated by commas.\n",
    "\n",
    "Syntax:\n",
    "\n",
    "lambda arg1, arg2, ..., argN: expression\n",
    "\n",
    "\"\"\"\n",
    "\n",
    "multiply = lambda a, b, c: a * b * c\n",
    "result = multiply(2, 3, 4)\n",
    "print(result)\n",
    "\n",
    "\"\"\"Here, the lambda function lambda a, b, c: a * b * c takes three arguments a, b, and c and returns their product.\n",
    "\n",
    "Lambda functions are particularly useful in situations where you need a short-lived function for a specific task and don't want to define a full function using the def keyword.\n",
    "\"\"\"\n"
   ]
  },
  {
   "cell_type": "code",
   "execution_count": 3,
   "id": "89d322f7",
   "metadata": {},
   "outputs": [
    {
     "name": "stdout",
     "output_type": "stream",
     "text": [
      "[(1, 5), (2, 8), (3, 2), (4, 1)]\n"
     ]
    }
   ],
   "source": [
    "3.\n",
    "\n",
    "\"\"\"Lambda functions in Python are typically used in situations where a small, anonymous function is needed for a short duration and a full function definition using the def keyword seems unnecessary. They are often employed for tasks that involve simple operations, especially in functional programming constructs like map, filter, and sorted.\n",
    "\"\"\"\n",
    "data = [(1, 5), (3, 2), (2, 8), (4, 1)]\n",
    "\n",
    "# Sorting based on the first element of each tuple\n",
    "\n",
    "sorted_data = sorted(data, key=lambda x: x[0])\n",
    "print(sorted_data)\n"
   ]
  },
  {
   "cell_type": "raw",
   "id": "4b2fe475",
   "metadata": {},
   "source": [
    "4.\n",
    "\n",
    "Advantages of lambda function:\n",
    "\n",
    "Anonymous: Lambda functions are anonymous, meaning they don't require a formal name. This is beneficial when a small, one-time operation is needed and a full function definition seems overly verbose.\n",
    "\n",
    "Functional Programming: Lambda functions are commonly used in functional programming constructs like map, filter, and sorted. They fit well into the functional programming paradigm.\n",
    "\n",
    "Conciseness: Lambda functions allow for a more concise syntax, which is useful for short operations. They can be defined in a single line without the need for a separate def statement.\n",
    "\n",
    "Limitations of lambda function:\n",
    "\n",
    "Readability: While lambda functions can be concise, they may sacrifice readability for brevity. Complex operations are often clearer when defined using a regular function with a def statement.\n",
    "\n",
    "Limited Complexity: Lambda functions are limited to a single expression, making them unsuitable for complex operations that require multiple statements.\n",
    "\n",
    "No Documentation Strings: Lambda functions cannot have documentation strings (docstrings), which are used to document the purpose and usage of a function."
   ]
  },
  {
   "cell_type": "code",
   "execution_count": 4,
   "id": "8d0dfb88",
   "metadata": {},
   "outputs": [
    {
     "name": "stdout",
     "output_type": "stream",
     "text": [
      "18\n"
     ]
    }
   ],
   "source": [
    "5.\n",
    "\n",
    "\"\"\"Yes, lambda functions in Python can access variables defined outside of their own scope.\n",
    "It is possible due to a mechanism called closure. A closure allows a function to retain access to the variables from the enclosing scope even after the scope in which the function was defined has finished executing.\"\"\"\n",
    "\n",
    "def outer_function(x):\n",
    "    outer_variable = 10\n",
    "\n",
    "    inner_lambda = lambda y: x + y + outer_variable\n",
    "\n",
    "    return inner_lambda\n",
    "\n",
    "closure = outer_function(5)\n",
    "result = closure(3)\n",
    "print(result) "
   ]
  },
  {
   "cell_type": "raw",
   "id": "28881627",
   "metadata": {},
   "source": [
    "5. continuation\n",
    "\n",
    "In the above function, The outer_function defines a lambda function named inner_lambda within its scope.\n",
    "The lambda function takes an argument y and accesses variables x (a parameter of the outer function) and outer_variable (a variable defined in the outer function's scope).\n",
    "When outer_function is called with an argument 5, it returns the lambda function inner_lambda, creating a closure.\n",
    "The closure is assigned to the variable closure.\n",
    "When the lambda function is called with closure(3), it uses the values of x and outer_variable from the enclosing scope, resulting in the output 18."
   ]
  },
  {
   "cell_type": "code",
   "execution_count": 7,
   "id": "c43adfe7",
   "metadata": {},
   "outputs": [
    {
     "name": "stdout",
     "output_type": "stream",
     "text": [
      "81\n"
     ]
    }
   ],
   "source": [
    "#6. lambda function to calculate the square of the given number\n",
    "\n",
    "square=lambda x:x**2\n",
    "\n",
    "result=square(9)\n",
    "print(result)"
   ]
  },
  {
   "cell_type": "code",
   "execution_count": 8,
   "id": "f1452b61",
   "metadata": {},
   "outputs": [
    {
     "name": "stdout",
     "output_type": "stream",
     "text": [
      "234\n"
     ]
    }
   ],
   "source": [
    "#7. maximum value\n",
    "\n",
    "maximum_value=lambda x: max(x)\n",
    "\n",
    "list1=[1,2,3,43,234,21,4,54]\n",
    "result=maximum_value(list1)\n",
    "print(result)"
   ]
  },
  {
   "cell_type": "code",
   "execution_count": 14,
   "id": "e43e7bbe",
   "metadata": {},
   "outputs": [
    {
     "name": "stdout",
     "output_type": "stream",
     "text": [
      "[2, 4, 6, 8, 10]\n"
     ]
    }
   ],
   "source": [
    "#8. even numbers\n",
    "\n",
    "filter_even = lambda numbers: list(filter(lambda x: x % 2 == 0, numbers))\n",
    "\n",
    "\n",
    "numbers_list = [1, 2, 3, 4, 5, 6, 7, 8, 9, 10]\n",
    "result = filter_even(numbers_list)\n",
    "print(result)  \n"
   ]
  },
  {
   "cell_type": "code",
   "execution_count": 15,
   "id": "0c0d3ba5",
   "metadata": {},
   "outputs": [
    {
     "name": "stdout",
     "output_type": "stream",
     "text": [
      "['kiwi', 'apple', 'grape', 'banana', 'orange']\n"
     ]
    }
   ],
   "source": [
    "#9. ascending order\n",
    "\n",
    "sort_by_length = lambda strings: sorted(strings, key=lambda x: len(x))\n",
    "\n",
    "strings_list = [\"apple\", \"banana\", \"kiwi\", \"orange\", \"grape\"]\n",
    "result = sort_by_length(strings_list)\n",
    "print(result)\n"
   ]
  },
  {
   "cell_type": "code",
   "execution_count": 17,
   "id": "3e4f2137",
   "metadata": {},
   "outputs": [
    {
     "name": "stdout",
     "output_type": "stream",
     "text": [
      "[3, 4, 5, 6]\n"
     ]
    }
   ],
   "source": [
    "#10.\n",
    "\n",
    "elements=lambda list1, list2: list(filter(lambda x: x in l1, l2))\n",
    "\n",
    "l1 = [1, 2, 6, 3, 4, 5]\n",
    "l2 = [3, 4, 5, 6, 7]\n",
    "result=elements(l1, l2)\n",
    "print(result)  \n"
   ]
  },
  {
   "cell_type": "code",
   "execution_count": 19,
   "id": "80d3394f",
   "metadata": {},
   "outputs": [
    {
     "name": "stdout",
     "output_type": "stream",
     "text": [
      "120\n"
     ]
    }
   ],
   "source": [
    "#11. factorial\n",
    "\n",
    "def factorial(n):\n",
    "    \n",
    "    if n == 0 or n == 1:\n",
    "        return 1\n",
    "    else:\n",
    "        return n * factorial(n-1)\n",
    "\n",
    "result = factorial(5)\n",
    "print(result)\n"
   ]
  },
  {
   "cell_type": "code",
   "execution_count": 20,
   "id": "e9ae835f",
   "metadata": {},
   "outputs": [
    {
     "name": "stdout",
     "output_type": "stream",
     "text": [
      "13\n"
     ]
    }
   ],
   "source": [
    "#12. fibanocci\n",
    "\n",
    "def fibonacci(n):\n",
    "    if n == 0:\n",
    "        return 0\n",
    "    elif n == 1:\n",
    "        return 1\n",
    "    else:\n",
    "        return fibonacci(n-1) + fibonacci(n-2)\n",
    "\n",
    "result = fibonacci(7)\n",
    "print(result)\n"
   ]
  },
  {
   "cell_type": "code",
   "execution_count": 21,
   "id": "9aa9fda2",
   "metadata": {},
   "outputs": [
    {
     "name": "stdout",
     "output_type": "stream",
     "text": [
      "15\n"
     ]
    }
   ],
   "source": [
    "#13. sum of all the elements\n",
    "\n",
    "def list_sum(list1):\n",
    "    if not list1:\n",
    "        return 0\n",
    "    else:\n",
    "        return list1[0] + list_sum(list1[1:])\n",
    "\n",
    "\n",
    "my_list = [1, 2, 3, 4, 5]\n",
    "result = list_sum(my_list)\n",
    "print(result) \n"
   ]
  },
  {
   "cell_type": "code",
   "execution_count": 22,
   "id": "30ade608",
   "metadata": {},
   "outputs": [
    {
     "name": "stdout",
     "output_type": "stream",
     "text": [
      "Is \"radar\" a palindrome? True\n",
      "Is \"python\" a palindrome? False\n"
     ]
    }
   ],
   "source": [
    "#14.\n",
    "\n",
    "def is_palindrome(s):\n",
    "    if len(s)<=1:\n",
    "        return True\n",
    "    else:\n",
    "        return s[0]==s[-1] and is_palindrome(s[1:-1])\n",
    "\n",
    "string1 = \"radar\"\n",
    "string2 = \"python\"\n",
    "\n",
    "result1 = is_palindrome(string1)\n",
    "result2 = is_palindrome(string2)\n",
    "\n",
    "print(f'Is \"{string1}\" a palindrome? {result1}') \n",
    "print(f'Is \"{string2}\" a palindrome? {result2}') \n"
   ]
  },
  {
   "cell_type": "code",
   "execution_count": 23,
   "id": "1b66720f",
   "metadata": {},
   "outputs": [
    {
     "name": "stdout",
     "output_type": "stream",
     "text": [
      "6\n"
     ]
    }
   ],
   "source": [
    "#15.\n",
    "\n",
    "def gcd(a, b):\n",
    "    if b == 0:\n",
    "        return a\n",
    "    else:\n",
    "        return gcd(b, a % b)\n",
    "\n",
    "\n",
    "result = gcd(48, 18)\n",
    "print(result)\n"
   ]
  }
 ],
 "metadata": {
  "kernelspec": {
   "display_name": "Python 3 (ipykernel)",
   "language": "python",
   "name": "python3"
  },
  "language_info": {
   "codemirror_mode": {
    "name": "ipython",
    "version": 3
   },
   "file_extension": ".py",
   "mimetype": "text/x-python",
   "name": "python",
   "nbconvert_exporter": "python",
   "pygments_lexer": "ipython3",
   "version": "3.11.3"
  }
 },
 "nbformat": 4,
 "nbformat_minor": 5
}
